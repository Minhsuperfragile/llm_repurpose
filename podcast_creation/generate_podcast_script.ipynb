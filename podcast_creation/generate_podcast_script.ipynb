{
 "cells": [
  {
   "cell_type": "markdown",
   "metadata": {},
   "source": [
    "#### Utilities"
   ]
  },
  {
   "cell_type": "code",
   "execution_count": 3,
   "metadata": {},
   "outputs": [
    {
     "name": "stdout",
     "output_type": "stream",
     "text": [
      "--2024-12-27 13:47:23--  https://arxiv.org/pdf/2406.04692\n",
      "Resolving arxiv.org (arxiv.org)... 151.101.131.42, 151.101.67.42, 151.101.195.42, ...\n",
      "Connecting to arxiv.org (arxiv.org)|151.101.131.42|:443... connected.\n",
      "HTTP request sent, awaiting response... 200 OK\n",
      "Length: 1157463 (1.1M) [application/pdf]\n",
      "Saving to: ‘2406.04692’\n",
      "\n",
      "2406.04692          100%[===================>]   1.10M  2.13MB/s    in 0.5s    \n",
      "\n",
      "2024-12-27 13:47:24 (2.13 MB/s) - ‘2406.04692’ saved [1157463/1157463]\n",
      "\n"
     ]
    }
   ],
   "source": [
    "!wget https://arxiv.org/pdf/2406.04692\n",
    "!mv 2406.04692 MoA.pdf"
   ]
  },
  {
   "cell_type": "code",
   "execution_count": 14,
   "metadata": {},
   "outputs": [
    {
     "data": {
      "text/plain": [
       "True"
      ]
     },
     "execution_count": 14,
     "metadata": {},
     "output_type": "execute_result"
    }
   ],
   "source": [
    "from dotenv import load_dotenv\n",
    "from default_prompts import ENGLISH_SYSTEM_PROMPT, VIETNAMESE_SYSTEM_PROMPT\n",
    "load_dotenv()"
   ]
  },
  {
   "cell_type": "code",
   "execution_count": 5,
   "metadata": {},
   "outputs": [],
   "source": [
    "from pypdf import PdfReader\n",
    "\n",
    "def get_PDF_text(file : str):\n",
    "    text = ''\n",
    "\n",
    "    # Read the PDF file and extract text\n",
    "    try:\n",
    "        with open(file, 'rb') as f:\n",
    "            reader = PdfReader(f)\n",
    "            text = \"\\n\\n\".join([page.extract_text() for page in reader.pages])\n",
    "    except Exception as e:\n",
    "        raise f\"Error reading the PDF file: {str(e)}\"\n",
    "\n",
    "        # Check if the PDF has more than ~400,000 characters\n",
    "        # The context lenght limit of the model is 131,072 tokens and thus the text should be less than this limit\n",
    "        # Assumes that 1 token is approximately 4 characters\n",
    "    if len(text) > 400000:\n",
    "        raise \"The PDF is too long. Please upload a PDF with fewer than ~131072 tokens.\"\n",
    "\n",
    "    return text\n",
    "  \n",
    "pdf_text = get_PDF_text('MoA.pdf')"
   ]
  },
  {
   "cell_type": "markdown",
   "metadata": {},
   "source": [
    "#### LLama with Ollama python"
   ]
  },
  {
   "cell_type": "code",
   "execution_count": 10,
   "metadata": {},
   "outputs": [],
   "source": [
    "import ollama\n",
    "\n",
    "response: ollama.ChatResponse = ollama.chat(model='llama3.1',\n",
    "                                            messages=[{\n",
    "                                                'role': 'system', 'content': ENGLISH_SYSTEM_PROMPT\n",
    "                                            }, {\n",
    "                                                'role': 'user', 'content': pdf_text\n",
    "                                            }]\n",
    "                                            )\n"
   ]
  },
  {
   "cell_type": "code",
   "execution_count": 15,
   "metadata": {},
   "outputs": [
    {
     "data": {
      "text/plain": [
       "'This appears to be a research paper on a novel approach to aggregating responses from multiple large language models (LLMs) to produce a single, more accurate and informative response. Here\\'s a summary of the key points:\\n\\n**Approach:**\\n\\n* The authors propose a method for aggregating responses from multiple LLMs using a MoA (Multi-Objective Attention) layer.\\n* The MoA layer takes in responses from different models and outputs a weighted combination of their scores, where each model is given a preference score by the GPT-4 model.\\n\\n**Case Studies:**\\n\\n* Two case studies are presented to demonstrate the effectiveness of the approach:\\n\\t+ Case 1: \"Smooth\" song facts. The aggregated response from Qwen1.5-110B-Chat achieves a high preference score (0.99) and incorporates key points from other models.\\n\\t+ Case 2: Authorship question. Although none of the proposed responses achieve a high preference score, the aggregator successfully identifies strong points from each response and produces an aggregated answer with a moderate preference score (0.33).\\n\\n**Results on MATH Task:**\\n\\n* The authors evaluate their approach on a reasoning task, such as those in the MATH dataset.\\n* They report consistent enhancements in accuracy by a significant margin across multiple models.\\n* The results suggest that the approach is complementary to existing techniques like Chain of Thought and Self-consistency.\\n\\n**Key Takeaways:**\\n\\n* The proposed MoA layer approach effectively aggregates responses from multiple LLMs, leading to improved accuracy and informativeness.\\n* The method is applicable to various tasks, including reasoning and open-ended questions.\\n* Further research is needed to explore the limits and potential applications of this approach.'"
      ]
     },
     "execution_count": 15,
     "metadata": {},
     "output_type": "execute_result"
    }
   ],
   "source": [
    "response.message.content"
   ]
  },
  {
   "cell_type": "markdown",
   "metadata": {},
   "source": [
    "#### Gemini with SimplerLLM"
   ]
  },
  {
   "cell_type": "code",
   "execution_count": 6,
   "metadata": {},
   "outputs": [],
   "source": [
    "from SimplerLLM.language.llm import LLM, LLMProvider\n",
    "\n",
    "gemini = LLM.create(\n",
    "    provider=LLMProvider.GEMINI,\n",
    "    model_name='gemini-1.5-flash'\n",
    ")\n",
    "\n",
    "gemini_response = gemini.generate_response(\n",
    "    prompt=pdf_text,\n",
    "    max_tokens=400000,\n",
    "    system_prompt=ENGLISH_SYSTEM_PROMPT\n",
    ")"
   ]
  },
  {
   "cell_type": "code",
   "execution_count": 7,
   "metadata": {},
   "outputs": [],
   "source": [
    "with open(\"gemini_response.txt\", 'w') as f:\n",
    "    f.write(gemini_response)"
   ]
  },
  {
   "cell_type": "code",
   "execution_count": 8,
   "metadata": {},
   "outputs": [],
   "source": [
    "import json \n",
    "\n",
    "with open('gemini_response.txt', 'r') as f:\n",
    "    script_dict = json.load(f)"
   ]
  },
  {
   "cell_type": "code",
   "execution_count": 9,
   "metadata": {},
   "outputs": [
    {
     "data": {
      "text/plain": [
       "'Unlocking LLM Potential: The Mixture-of-Agents Approach'"
      ]
     },
     "execution_count": 9,
     "metadata": {},
     "output_type": "execute_result"
    }
   ],
   "source": [
    "script_dict['podcast_script']['title']"
   ]
  },
  {
   "cell_type": "markdown",
   "metadata": {},
   "source": [
    "#### Gemini with Vietnamese prompt and Vietnamese text"
   ]
  },
  {
   "cell_type": "code",
   "execution_count": 11,
   "metadata": {},
   "outputs": [
    {
     "data": {
      "text/plain": [
       "'ỦY BAN NHÂN DÂN TỈNH LÀO CAI -------- CỘNG HÒA XÃ HỘI CHỦ NGHĨA VIỆT NAM Độc lập - Tự do - Hạnh phúc --------------- Số: 17/2021/QĐ-UBND Lào Cai, ngày 29 tháng 3 năm 2021 QUYẾT ĐỊNH BAN HÀNH QUY ĐỊNH VỊ TRÍ, CHỨC NĂNG, NHIỆM VỤ, QUYỀN HẠN VÀ CƠ CẤU TỔ CHỨC CỦA CHI CỤC TRỒNG TRỌT VÀ BẢO VỆ THỰC VẬT TỈNH LÀO CAI ỦY BAN NHÂN DÂN TỈNH LÀO CAI Căn cứ Luật Tổ chức chính quyền địa phương ngày 19/6/2015; Căn cứ Luật Sửa đổi, bổ sung một số điều của Luật Tổ chức Chính phủ và Luật Tổ chức chính quyền địa phương ngày 22/11/2019; Căn cứ Luật Ban hành văn bản quy phạm pháp luật ngày 22/6/2015; Căn cứ Luật sửa đổi, bổ sung một số điều của Luật Ban hành văn bản quy phạm pháp luật ngày 18/6/2020; Căn cứ Nghị định số 34/2016/NĐ-CP ngày 14/5/2016 của Chính phủ quy định chi tiết một số điều và biện pháp thi hành Luật Ban hành văn bản quy phạm pháp luật; Căn cứ Nghị định số 154/2020/NĐ-CP ngày 31/12/2020 của Chính phủ Sửa đổi, bổ sung một số điều của Nghị định số 34/2016/NĐ-CP ngày 14/5/2016 của Chính phủ quy định chi tiết một số điều và biện pháp thi hành Luật ban hành văn bản quy phạm pháp luật; Căn cứ Nghị định 24/2014/NĐ-CP ngày 04/4/2014 của Chính phủ quy định tổ chức các cơ quan chuyên môn thuộc Ủy ban nhân dân tỉnh, thành phố trực thuộc Trung ương; Căn cứ Nghị định số 107/2020/NĐ-CP ngày 14/9/2020 của Chính phủ sửa đổi, bổ sung một số điều của Nghị định 24/2014/NĐ-CP ngày 04/4/2014 của Chính phủ quy định tổ chức các cơ quan chuyên môn thuộc Ủy ban nhân dân tỉnh, thành phố trực thuộc Trung ương; Căn cứ Thông tư liên tịch số 14/2015/TTLT-BNNPTNT-BNV ngày 25/3/2015 của Bộ trưởng Bộ Nông nghiệp và Phát triển nông thôn và Bộ trưởng Bộ Nội vụ hướng dẫn chức năng, nhiệm vụ, quyền hạn và cơ cấu tổ chức của cơ quan chuyên môn về nông nghiệp và phát triển nông thôn thuộc Ủy ban nhân dân cấp tỉnh, cấp huyện; Căn cứ Thông tư số 15/2015/TT-BNNPTNT ngày 26/3/2015 của Bộ trưởng Bộ Nông nghiệp và Phát triến nông thôn hướng dẫn nhiệm vụ các Chi cục và các tổ chức sự nghiệp trực thuộc Sở Nông nghiệp và Phát triển nông thôn; Căn cứ Thông tư số 35/2015/TT-BNNPTNT ngày 14/10/2015 của Bộ trưởng Bộ Nông nghiệp và Phát triển nông thôn quy định về kiểm dịch thực vật nội địa; Theo đề nghị của Giám đốc Sở Nội vụ tại Tờ trình số 152/TTr-SNV ngày 24 tháng 3 năm 2021. QUYẾT ĐỊNH: Điều 1. Ban hành kèm theo Quyết định này Quy định vị trí, chức năng, nhiệm vụ, quyền hạn và cơ cấu tổ chức của Chi cục Trồng trọt và Bảo vệ thực vật tỉnh Lào Cai. Điều 2. Hiệu lực thi hành Quyết định này có hiệu lực kể từ ngày 10 tháng 4 năm 2021 và thay thế Quyết định số 62/2015/QĐ-UBND ngày 21/12/2015 của Ủy ban nhân dân tỉnh Lào Cai ban hành Quy định vị trí, chức năng, nhiệm vụ, quyền hạn và cơ cấu tổ chức của Chi cục Trồng trọt và Bảo vệ thực vật tỉnh Lào Cai; Quyết định số 12/2019/QĐ-UBND ngày 19/3/2019 của Ủy ban nhân dân tỉnh Lào Cai sửa đổi, bãi bỏ một số nội dung của Quy định vị trí, chức năng, nhiệm vụ, quyền hạn và cơ cấu tổ chức của Chi cục Trồng trọt và Bảo vệ thực vật tỉnh lào cai ban hành kèm theo Quyết định số 62/2015/QĐ-UBND ngày 21/12/2015 của Ủy ban nhân dân tỉnh Lào Cai. Điều 3. Trách nhiệm tổ chức thực hiện Chánh Văn phòng UBND tỉnh, Giám đốc Sở Nội vụ, Giám đốc Sở Tư pháp; Giám đốc Sở Nông nghiệp và Phát triển nông thôn; Thủ trưởng các sở, ban, ngành, đơn vị có liên quan, Chủ tịch UBND các huyện, thị xã, thành phố, Chi cục trưởng Chi cục Trồng trọt và Bảo vệ thực vật tỉnh Lào Cai chịu trách nhiệm thi hành Quyết định này./. TM. ỦY BAN NHÂN DÂN CHỦ TỊCH Trịnh Xuân Trường QUY ĐỊNH VỊ TRÍ, CHỨC NĂNG, NHIỆM VỤ, QUYỀN HẠN VÀ CƠ CẤU TỔ CHỨC CỦA CHI CỤC TRỒNG TRỌT VÀ BẢO VỆ THỰC VẬT TỈNH LÀO CAI (Ban hành kèm theo Quyết định số 17/2021/QĐ-UBND ngày 29 tháng 3 năm 2021 của Uỷ ban nhân dân tỉnh Lào Cai) Điều 1. Vị trí, chức năng 1. Chi cục Trồng trọt và Bảo vệ thực vật là tổ chức hành chính trực thuộc Sở Nông nghiệp và Phát triển nông thôn, giúp Giám đốc Sở tham mưu cho ủy ban nhân dân tỉnh thực hiện chức năng quản lý nhà nước chuyên ngành và tổ chức thực thi pháp luật về sản xuất trồng trọt, giống cây trồng nông nghiệp, sử dụng đất để sản xuất nông nghiệp, phân bón, bảo vệ thực vật, kiểm dịch thực vật nội địa, thuốc bảo vệ thực vật, khử trùng và quản lý dịch vụ công thuộc phạm vi lĩnh vực được giao trên địa bàn tỉnh. 2. Chi cục chịu sự chỉ đạo, quản lý của Sở Nông nghiệp và Phát triển nông thôn theo quy định của pháp luật; đồng thời chịu sự hướng dẫn, kiểm tra, giám sát về chuyên môn, nghiệp vụ của Cục Trồng trọt và Cục Bảo vệ thực vật trực thuộc Bộ Nông nghiệp và Phát triển nông thôn. 3. Chi cục Trồng trọt và Bảo vệ thực vật có tư cách pháp nhân, con dấu và tài khoản riêng để hoạt động theo quy định của pháp luật. 4. Trụ sở của Chi cục Trồng trọt và Bảo vệ thực vật đặt tại thành phố Lào Cai, tỉnh Lào Cai. Điều 2. Nhiệm vụ, quyền hạn 1. Tham mưu giúp Giám đốc Sở Nông nghiệp và Phát triển nông thôn trình cấp có thẩm quyền ban hành các văn bản quy phạm pháp luật, quy hoạch, kế hoạch, chương trình, đề án, dự án, quy chuẩn kỹ thuật, quy trình, định mức kinh tế - kỹ thuật về sản xuất trồng trọt, giống cây trồng nông nghiệp, sử dụng đất sản xuất nông nghiệp, phân bón, bảo vệ thực vật, kiểm dịch thực vật, quản lý thuốc bảo vệ thực vật ở địa phương. 2. Tổ chức thực hiện các văn bản quy phạm pháp luật, quy hoạch, kế hoạch, chương trình, đề án, dự án, tiêu chuẩn, quy chuẩn kỹ thuật, định mức kinh tế - kỹ thuật đã được phê duyệt. Thông tin, tuyên truyền, phổ biến pháp luật về các lĩnh vực thuộc phạm vi quản lý được giao. 3. Trình Giám đốc Sở Nông nghiệp và Phát triển nông thôn ban hành hoặc phê duyệt theo thẩm quyền các văn bản cá biệt thuộc chuyên ngành, lĩnh vực công tác thuộc phạm vi quản lý của Chi cục. 4. Về sản xuất trồng trọt: a) Tổ chức thực hiện kế hoạch sản xuất trồng trọt hàng vụ, hàng năm và từng giai đoạn của địa phương; chủ trì thực hiện và tổng kết, đánh giá kế hoạch sản xuất; b) Tổ chức thực hiện quy hoạch các vùng sản xuất trồng trọt tập trung sau khi cấp thẩm quyền phê duyệt; c) Hướng dẫn, kiểm tra, thực hiện các quy trình sản xuất an toàn, công nhận, áp dụng các tiến bộ kỹ thuật và thực hiện sản xuất trồng trọt theo hướng thực hành nông nghiệp tốt (GAP) trên địa bàn; d) Thực hiện các nhiệm vụ liên quan đến sản xuất, sơ chế rau, quả, chè an toàn: tổ chức tập huấn và cấp chứng chỉ cho người sản xuất; thẩm định, trình Giám đốc Sở cấp giấy chứng nhận và công bố cơ sở đủ điều kiện an toàn thực phẩm; đ) Hướng dẫn, kiểm tra và tổ chức thực hiện chuyển đổi cơ cấu cây trồng, cơ cấu giống theo mùa vụ, thời vụ sản xuất trên địa bàn; e) Thực hiện các biện pháp khắc phục thiên tai trong sản xuất trồng trọt. 5. Về quản lý giống cây trồng: a) Hướng dẫn cơ cấu giống, sử dụng giống cây trồng; quản lý, khai thác cây đầu dòng, vườn cây đầu dòng; ứng dụng công nghệ, tiến bộ khoa học kỹ thuật về giống cây trồng thuộc lĩnh vực trồng trọt trên địa bàn; b) Theo dõi, giám sát việc khảo nghiệm, sản xuất thử, đề xuất công nhận và đề xuất công nhận đặc cách giống mới; c) Đề xuất công nhận cấp, cấp lại, hủy bỏ hiệu lực giấy công nhận cây đầu dòng, vườn cây đầu dòng trên địa bàn; báo cáo và công bố công khai theo quy định; d) Hướng dẫn, kiểm tra cấp mã số cho các tổ chức, cá nhân sản xuất, kinh doanh giống cây trồng nông nghiệp; quản lý, hướng dẫn các tổ chức, cá nhân tham gia sản xuất giống nông hộ trên địa bàn; đ) Hướng dẫn, kiểm tra việc thực hiện các quy định quản lý nhà nước về giống cây trồng. 6. Về quản lý phân bón: a) Dự báo nhu cầu, xây dựng kế hoạch sử dụng phân bón hàng vụ, hàng năm của địa phương; b) Theo dõi, giám sát, nhận xét, đánh giá kết quả khảo nghiệm phân bón mới tại địa phương; tiếp nhận công bố hợp quy phân bón của các tổ chức, cá nhân theo quy định; c) Hướng dẫn sử dụng các loại phân bón đúng kỹ thuật, đạt hiệu quả cao, đảm bảo an toàn thực phẩm và hạn chế gây ô nhiễm môi trường. 7. Về quản lý sử dụng đất sản xuất nông nghiệp: a) Quản lý và tổ chức thực hiện quy hoạch, kế hoạch phương án sử dụng đất có hiệu quả; giải pháp bảo vệ, chống xói mòn nâng cao độ phì đất sản xuất nông nghiệp; b) Hướng dẫn xây dựng, thẩm định phương án sử dụng lớp đất mặt; phương án khai hoang, phục hóa, cải tạo đất trồng lúa và đất trồng trọt khác; c) Hướng dẫn xây dựng, thực hiện kế hoạch chuyển đổi cơ cấu cây trồng, nuôi trồng thủy sản trên đất lúa. 8. Về bảo vệ thực vật: a) Tổ chức kiểm tra việc thực hiện công tác điều tra, khảo sát thực nghiệm, phát hiện, dự tính dự báo thời gian phát sinh, phạm vi và mức độ gây hại của những sinh vật gây hại thực vật trên địa bàn tỉnh; thông báo kịp thời và đề xuất chủ trương, hướng dẫn biện pháp kỹ thuật phòng chống sinh vật gây hại. Xây dựng, duy trì hệ thống điều tra, phát hiện, cảnh báo, cơ sở dữ liệu và biện pháp phòng, chống sinh vật gây hại; b) Kiểm tra, xác minh và tham mưu trình Giám đốc Sở Nông nghiệp và Phát triển nông thôn báo cáo ủy ban nhân dân tỉnh quyết định công bố dịch, công bố hết dịch hại thực vật theo quy định của pháp luật bảo vệ và kiểm dịch thực vật; c) Tham mưu chính quyền địa phương, cơ quan quản lý về tổ chức, chỉ đạo, chính sách phòng chống sinh vật gây hại thực vật; d) Tiếp nhận, xử lý thông tin và hướng dẫn các biện pháp xử lý đối với các sinh vật gây hại được chủ thực vật, tổ chức, cá nhân thông báo; đ) Đề xuất các biện pháp khắc phục hậu quả do thiên tai, dịch hại gây ra để khôi phục sản xuất nông nghiệp và ổn định đời sống nhân dân. 9. Về kiểm dịch thực vật: a) Điều tra sinh vật gây hại sản phẩm thực vật lưu trữ trong kho; giám sát, đánh giá sinh vật gây hại giống cây trồng, sinh vật có ích nhập nội; giám sát vật thể thuộc diện kiểm dịch thực vật, các ổ dịch, vùng dịch hại thuộc diện điều chỉnh; b) Kiểm tra, giám sát các lô vật thể thuộc diện kiểm dịch thực vật từ vùng dịch hoặc đi qua vùng dịch theo quy định của pháp luật; c) Tổ chức và quản lý công tác khử trùng sản phẩm thực vật bảo quản tại địa phương theo quy định của pháp luật. 10. Về quản lý thuốc bảo vệ thực vật: a) Thực hiện việc quản lý sản xuất, buôn bán, sử dụng, bảo quản, vận chuyển, quảng cáo, thu hồi thuốc bảo vệ thực vật trên địa bàn; tiếp nhận công bố hợp quy về thuốc bảo vệ thực vật của các tổ chức, cá nhân theo quy định; b) Hướng dẫn thu gom bao, gói thuốc bảo vệ thực vật sau sử dụng để tiêu hủy theo đúng quy định; c) Hướng dẫn, kiểm tra việc sử dụng thuốc bảo vệ thực vật trên cây trồng theo quy định. 11. Cấp, cấp lại, gia hạn, thu hồi các loại giấy chứng nhận, giấy phép, chứng chỉ hành nghề và được thu phí, lệ phí theo quy định của pháp luật. 12. Tổ chức, thực hiện công tác quản lý an toàn thực phẩm, bảo vệ môi trường trong lĩnh vực trồng trọt và bảo vệ thực vật theo phân công của Giám đốc Sở và quy định pháp luật. 13. Tham mưu giúp Giám đốc Sở quản lý dự trữ địa phương về giống cây trồng nông nghiệp, thuốc bảo vệ thực vật, vật tư hàng hóa thuộc lĩnh vực trồng trọt và bảo vệ thực vật trên địa bàn sau khi được ủy ban nhân dân tỉnh phê duyệt. 14. Xây dựng, trình phê duyệt và thực hiện các dự án điều tra cơ bản về giống cây trồng, bảo tồn giống cây trồng; thực hiện điều tra, thống kê và quản lý cơ sở dữ liệu về trồng trọt và bảo vệ thực vật trên địa bàn tỉnh. 15. Thực hiện công tác kiểm tra; giải quyết khiếu nại, tố cáo; phòng, chống tham nhũng, tiêu cực và kiến nghị cấp có thẩm quyền xử lý vi phạm về việc chấp hành pháp luật trong lĩnh vực trồng trọt và bảo vệ thực vật trên địa bàn tỉnh theo quy định của pháp luật. 16. Thực hiện hợp tác quốc tế về các lĩnh vực thuộc phạm vi quản lý theo phân cấp của Sở Nông nghiệp và Phát triển nông thôn và quy định của pháp luật. 17. Thực hiện chế độ thông báo, báo cáo định kỳ hoặc đột xuất tình hình, kết quả công tác trồng trọt, bảo vệ thực vật và các hoạt động khác có liên quan ở địa phương theo quy định với cơ quan quản lý trực tiếp và cơ quan chuyên ngành cấp trên; cập nhật, lưu trữ và khai thác cơ sở dữ liệu về trồng trọt, bảo vệ thực vật theo quy định phục vụ công tác chỉ đạo; tổng kết, đánh giá hoạt động trồng trọt và bảo vệ thực vật trên địa bàn tỉnh. 18. Tổ chức thực hiện công tác cải cách hành chính; quản lý tổ chức, biên chế công chức, số lượng người làm việc, tài chính, tài sản được giao theo phân cấp của Sở Nông nghiệp và Phát triển nông thôn và quy định của pháp luật. Thực hiện hợp đồng và hướng dẫn, quản lý nhân viên kỹ thuật trồng trọt, bảo vệ thực vật cấp cơ sở theo quy định của pháp luật. 19. Thực hiện các nhiệm vụ khác theo quy định của pháp luật và Giám đốc Sở Nông nghiệp và Phát triển nông thôn giao. Điều 3. Cơ cấu tổ chức 1. Lãnh đạo Chi cục: a) Chi Cục Trồng trọt và Bảo vệ thực vật có Chi cục trưởng và 01 Phó Chi cục trưởng; b) Chi cục trưởng là người đứng đầu Chi cục, chịu trách nhiệm trước Giám đốc Sở Nông nghiệp và Phát triển nông thôn và trước pháp luật về toàn bộ hoạt động của Chi cục. c) Phó Chi cục trưởng là người giúp Chi cục trưởng chỉ đạo một số mặt công tác và chịu trách nhiệm trước Chi cục trưởng và trước pháp luật về việc thực hiện nhiệm vụ được phân công. Khi Chi cục trưởng vắng mặt, Phó Chi cục trưởng được Chi cục trưởng ủy nhiệm điều hành các hoạt động của Chi cục; d) Việc bổ nhiệm, miễn nhiệm, điều động, luân chuyển, khen thưởng, kỷ luật, cho từ chức, nghỉ hưu và thực hiện chế độ, chính sách đối với Chi cục trưởng, Phó Chi cục trưởng được thực hiện theo quy định của pháp luật và phân cấp quản lý về công tác tổ chức, cán bộ của tỉnh. 2. Các phòng chuyên môn, nghiệp vụ: a) Phòng Hành chính, tổng hợp; b) Phòng Trồng trọt; c) Phòng Bảo vệ và Kiểm dịch thực vật Điều 4. Biên chế Biên chế của Chi cục Trồng trọt và Bảo vệ thực vật nằm trong tổng biên chế của Sở Nông nghiệp và Phát triển nông thôn được ủy ban nhân dân tỉnh giao trên cơ sở Đề án vị trí việc làm và theo đề nghị của Giám đốc Sở Nội vụ. Điều 5. Trách nhiệm của Chi cục trưởng Chi cục Trồng trọt và Bảo vệ thực vật Ban hành các quyết định sau đây và chỉ đạo, điều hành, hướng dẫn, đôn đốc, kiểm tra, bảo đảm mọi hoạt động của Chi cục Trồng trọt và Bảo vệ thực vật hiệu lực, hiệu quả: 1. Quyết định ban hành chức năng, nhiệm vụ, quyền hạn cụ thể của các phòng thuộc Chi cục; quy định chức danh công chức gắn với vị trí việc làm cho từng phòng bảo đảm thực hiện đầy đủ chức năng, nhiệm vụ được giao và phù hợp với tình hình thực tế của Chi cục. 2. Quyết định ban hành Quy chế làm việc của Chi cục, nội quy cơ quan, các quy định khác có liên quan bảo đảm mọi hoạt động, điều hành của Chi cục theo đúng quy định của pháp luật. Điều 6. Điều khoản thi hành Giám đốc Sở Nông nghiệp và Phát triển nông thôn, Chi cục trưởng Chi cục Trồng trọt và Bảo vệ thực vật có trách nhiệm tổ chức triển khai thực hiện quy định này. Trong quá trình thực hiện, nếu có vướng mắc, phát sinh cần điều chỉnh, Chi cục trưởng Chi cục Trồng trọt và Bảo vệ thực vật báo cáo Giám đốc Sở Nông nghiệp và Phát triển nông thôn phối hợp với Giám đốc Sở Nội vụ trình UBND tỉnh xem xét, quyết định./.'"
      ]
     },
     "execution_count": 11,
     "metadata": {},
     "output_type": "execute_result"
    }
   ],
   "source": [
    "with open(\"/home/tminh/Documents/Dataset/thu-vien-phap-luat/json-data/800.json\", 'r') as f:\n",
    "    pdf_vn_text = json.load(f)\n",
    "\n",
    "law_doc = pdf_vn_text[1]['noi_dung']\n",
    "law_doc"
   ]
  },
  {
   "cell_type": "code",
   "execution_count": 15,
   "metadata": {},
   "outputs": [],
   "source": [
    "gemini_vn_response = gemini.generate_response(\n",
    "    prompt=law_doc,\n",
    "    max_tokens=400000,\n",
    "    system_prompt=VIETNAMESE_SYSTEM_PROMPT\n",
    ")\n",
    "with open(\"gemini_vn_response.txt\", 'w') as f:\n",
    "    f.write(gemini_vn_response)"
   ]
  }
 ],
 "metadata": {
  "kernelspec": {
   "display_name": "llmft",
   "language": "python",
   "name": "python3"
  },
  "language_info": {
   "codemirror_mode": {
    "name": "ipython",
    "version": 3
   },
   "file_extension": ".py",
   "mimetype": "text/x-python",
   "name": "python",
   "nbconvert_exporter": "python",
   "pygments_lexer": "ipython3",
   "version": "3.12.7"
  }
 },
 "nbformat": 4,
 "nbformat_minor": 2
}
